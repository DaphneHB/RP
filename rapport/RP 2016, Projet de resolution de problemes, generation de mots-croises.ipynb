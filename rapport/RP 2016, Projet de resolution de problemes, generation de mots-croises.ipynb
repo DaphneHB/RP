{
 "cells": [
  {
   "cell_type": "markdown",
   "metadata": {},
   "source": [
    "**Daphné Hbek, Elias Rhouzlane.**\n",
    "Université Pierre Marie Curie, Paris, France\n"
   ]
  },
  {
   "cell_type": "markdown",
   "metadata": {
    "collapsed": true
   },
   "source": [
    "---\n",
    "L'objectif est de représenter le mots-croisés comme un problème de satisfaction de contraintes (CSP) pour ensuite trouver un ensemble d'instanciations (variable = valeur) qui satisfasse l'ensemble des contraintes."
   ]
  },
  {
   "cell_type": "markdown",
   "metadata": {},
   "source": [
    "# 1 Modélisation par un CSP et résolution"
   ]
  },
  {
   "cell_type": "markdown",
   "metadata": {},
   "source": [
    "## 1.1 Proposition "
   ]
  },
  {
   "cell_type": "markdown",
   "metadata": {},
   "source": [
    "Un problème de satisfaction de contraintes peut être représenté par un triplet (X, D, C) où :\n",
    "\n",
    "- $X = \\{v_1, v_2, \\dots, v_n\\}$, est un ensemble de $n$ variables\n",
    "- $D = \\{d_1, d_2, \\dots, d_n\\}$, est l'ensemble des $n$ domaines finis associés aux variables\n",
    "- $C = \\{c_1, c_2, \\dots, c_m\\}$, est un ensemble de $m$ contraintes"
   ]
  },
  {
   "cell_type": "markdown",
   "metadata": {},
   "source": [
    "Dans le cas des mots-croisés, on peut définir les différents mots à trouver comme les variables du CSP et définir les contraintes sur et entre ces mots. Un mot est une variable contrainte par une certaine taille et où les lettres doivent être les même que tout autre mot de la grille qu'il intersecte. Le domaine de chaque variable est un ensemble de mot issus d'un dictionnaire de taille fixé à l'avance. Enfin, le domaine de chaque variable est réduit aux mots du dictionnaire de même taille que le mot à trouver. Chaque lettre dans les mots est l'une des 26 de l'alphabet en plus de caractères additionnels."
   ]
  },
  {
   "cell_type": "markdown",
   "metadata": {},
   "source": [
    "Ainsi nous avons défini notre CSP comme suivant:\n",
    "\n",
    "- $X = \\{mot_1, mot_2, \\dots, mot_n\\}$, est l'ensemble des mots à trouver dans la grille\n",
    "- $D = \\{d_1, d_2, \\dots, d_n\\}$ où chaque $d_i$ est un sous-ensemble du dictionnaire\n",
    "- $C = \\{c_1, c_2, \\dots, c_m\\}$, est un ensemble de contraintes sur la taille de chaque variable et de contraintes sur l'égalité de lettre aux intersections"
   ]
  },
  {
   "cell_type": "markdown",
   "metadata": {},
   "source": [
    "Un exemple de CSP suivant notre modélisation serait le suivant:\n",
    "\n",
    "| Variables | Domaines                | Contrainte unaire | Contrainte binaire             |\n",
    "|-----------|-------------------------|-------------------|--------------------------------|\n",
    "| $mot_1$     | {ABLE, ACID, ..., WORM} | mot.taille = 4        | intersect(mot_1, mot_2, (2,5)) |\n",
    "| $mot_2$     | {ACT, AIR, ..., YOU}    | mot.taille = 3        | None                           |\n",
    "| $mot_3$     | {ACROSS, ..., WRITING}  | mot.taille = 5        | None                           |"
   ]
  },
  {
   "cell_type": "markdown",
   "metadata": {},
   "source": [
    "Afin d'appliquer la contrainte supplémentaire qu'un même mot ne peut apparaitre plus d'une fois dans la grille, il suffit d'utiliser la contrainte $\\text{ALL-DIFF}$ et vérifier qu'à chaque instanciation d'une variable, la valeur de l'instanciation n'a pas déjà été utilisée."
   ]
  },
  {
   "cell_type": "markdown",
   "metadata": {},
   "source": [
    "Une autre méthode, plus efficace, serait de mettre à jour le domaine des variables de taille égale à la valeur de la variable instanciée et de la supprimer de ces domaines."
   ]
  },
  {
   "cell_type": "markdown",
   "metadata": {},
   "source": [
    "## 1.2 Implémentation\n",
    "\n",
    "Aide à l'utilisation du programme et description des fonctions:\n",
    "\n",
    "TODO"
   ]
  },
  {
   "cell_type": "markdown",
   "metadata": {},
   "source": [
    "## 1.3 Algorithme de Forward-Checking (FC)"
   ]
  },
  {
   "cell_type": "markdown",
   "metadata": {},
   "source": [
    "### Heuristique\n",
    "Pour le choix de la variable à instancier nous avons choisi d'utiliser une heuristique Minimum-remaining-value (MRV) qui nous retourne la variable qui a le plus petit nombre de valeur légale et issue de son domaine."
   ]
  },
  {
   "cell_type": "code",
   "execution_count": 8,
   "metadata": {
    "collapsed": true
   },
   "outputs": [],
   "source": [
    "# Solver method\n",
    "def mrv(self, instance):\n",
    "    \"\"\"\n",
    "    Minimum-remaining-value (MRV) heuristic\n",
    "    @return the variable from amongst those \n",
    "    that have the fewest legal values\n",
    "    \"\"\"\n",
    "    unassigned_x = {}\n",
    "    verbose=[]\n",
    "    for numVar, d in self.domain.items():\n",
    "        if len(d) > 0:\n",
    "            unassigned_x[numVar] = len(d)\n",
    "    for x in sorted(unassigned_x, key=unassigned_x.get):\n",
    "        if x not in instance:\n",
    "            return x\n",
    "    return False"
   ]
  },
  {
   "cell_type": "markdown",
   "metadata": {
    "collapsed": true
   },
   "source": [
    "## Algorithme de Conflict BackJumping (CBJ)"
   ]
  },
  {
   "cell_type": "markdown",
   "metadata": {},
   "source": [
    "# 2 Expérimentation"
   ]
  },
  {
   "cell_type": "markdown",
   "metadata": {},
   "source": [
    "Nous avons appliqué notre algorithme sur les 3 grilles A, B et C, et avons enregistré les temps moyens de résolution pour AC3, FC sans AC3 préalable, FC avec AC3 préalable.\n"
   ]
  },
  {
   "cell_type": "markdown",
   "metadata": {},
   "source": [
    "| Method    | Grille A | Grille B | Grille C |\n",
    "|-----------|----------|----------|----------|\n",
    "| AC3       | 0.00     | 0.00     | 0.00     |\n",
    "| FC        | 0.00     | 0.00     | 0.00     |\n",
    "| AC3 + CJB | 0.00     | 0.00     | 0.00     |"
   ]
  },
  {
   "cell_type": "code",
   "execution_count": null,
   "metadata": {
    "collapsed": true
   },
   "outputs": [],
   "source": []
  }
 ],
 "metadata": {
  "kernelspec": {
   "display_name": "Python 2",
   "language": "python",
   "name": "python2"
  },
  "language_info": {
   "codemirror_mode": {
    "name": "ipython",
    "version": 2
   },
   "file_extension": ".py",
   "mimetype": "text/x-python",
   "name": "python",
   "nbconvert_exporter": "python",
   "pygments_lexer": "ipython2",
   "version": "2.7.11"
  }
 },
 "nbformat": 4,
 "nbformat_minor": 0
}
