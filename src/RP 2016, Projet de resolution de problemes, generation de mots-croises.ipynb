{
 "cells": [
  {
   "cell_type": "markdown",
   "metadata": {},
   "source": [
    "**Daphné Hbek, Elias Rhouzlane.**\n",
    "Université Pierre Marie Curie, Paris, France\n"
   ]
  },
  {
   "cell_type": "markdown",
   "metadata": {
    "collapsed": true
   },
   "source": [
    "---\n",
    "L'objectif est de représenter les mots-croisés comme un problème de satisfaction de contraintes (CSP) pour ensuite trouver un ensemble d'instanciations (variable = valeur) qui satisfasse l'ensemble des contraintes."
   ]
  },
  {
   "cell_type": "markdown",
   "metadata": {},
   "source": [
    "# 1 Modélisation par un CSP et résolution"
   ]
  },
  {
   "cell_type": "markdown",
   "metadata": {},
   "source": [
    "## 1.1 Proposition "
   ]
  },
  {
   "cell_type": "markdown",
   "metadata": {},
   "source": [
    "Un problème de satisfaction de contraintes peut être représenté par un triplet (X, D, C) où :\n",
    "\n",
    "- $X = \\{v_1, v_2, \\dots, v_n\\}$, est un ensemble de $n$ variables\n",
    "- $D = \\{d_1, d_2, \\dots, d_n\\}$, est l'ensemble des $n$ domaines finis associés aux variables\n",
    "- $C = \\{c_1, c_2, \\dots, c_m\\}$, est un ensemble de $m$ contraintes"
   ]
  },
  {
   "cell_type": "markdown",
   "metadata": {},
   "source": [
    "Dans le cas des mots-croisés, on peut définir les différents mots à trouver comme les variables du CSP et définir les contraintes sur et entre ces mots. Ainsi, on propose d'associer une variable à chaque mot de la grille."
   ]
  },
  {
   "cell_type": "markdown",
   "metadata": {},
   "source": [
    "Un mot est une variable contrainte par une certaine taille et où les lettres doivent être les même que tout autre mot de la grille qu'il intersecte. Le domaine de chaque variable est un ensemble de mot issus d'un dictionnaire de taille fixé à l'avance. Enfin, le domaine de chaque variable est réduit aux mots du dictionnaire de même taille que le mot à trouver. Chaque lettre dans les mots est l'une des 26 de l'alphabet en plus de caractères additionnels.\n",
    "\n",
    "La numérotation des variables dépend de l'ordre de leurs apparition dans la grille, avec en premier temps les mots horizontaux puis verticaux."
   ]
  },
  {
   "cell_type": "markdown",
   "metadata": {},
   "source": [
    "Ainsi nous avons défini notre CSP comme suivant:\n",
    "\n",
    "- $X = \\{mot_1, mot_2, \\dots, mot_n\\}$, est l'ensemble des mots à trouver dans la grille.\n",
    "- $D = \\{d_1, d_2, \\dots, d_n\\}$ où chaque $d_i$ est un sous-ensemble du dictionnaire associé à la variable $mot_i$\n",
    "- $C = \\{c_1, c_2, \\dots, c_m\\}$, est un ensemble de contraintes sur la taille de chaque variable et de contraintes sur l'égalité de lettre aux intersections"
   ]
  },
  {
   "cell_type": "markdown",
   "metadata": {},
   "source": [
    "Un exemple de CSP suivant notre modélisation serait le suivant:\n",
    "\n",
    "| Variables | Domaines                | Contrainte unaire | Contrainte binaire             |\n",
    "|-----------|-------------------------|-------------------|--------------------------------|\n",
    "| $mot_1$     | {ABLE, ACID, ..., WORM} | mot.taille = 4        | intersect(mot_1, mot_2, (2,5)) |\n",
    "| $mot_2$     | {ACT, AIR, ..., YOU}    | mot.taille = 3        | None                           |\n",
    "| $mot_3$     | {ACROSS, ..., WRITING}  | mot.taille = 5        | None                           |"
   ]
  },
  {
   "cell_type": "markdown",
   "metadata": {},
   "source": [
    "Afin d'appliquer la contrainte supplémentaire qu'un même mot ne peut apparaitre plus d'une fois dans la grille, il suffit d'utiliser la contrainte $\\text{ALL-DIFF}$ et vérifier qu'à chaque instanciation d'une variable, la valeur de l'instanciation n'a pas déjà été utilisée."
   ]
  },
  {
   "cell_type": "markdown",
   "metadata": {},
   "source": [
    "Une autre méthode, plus efficace, serait de mettre à jour le domaine des variables de taille égale à la valeur de la variable instanciée et de la supprimer de ces domaines."
   ]
  },
  {
   "cell_type": "markdown",
   "metadata": {},
   "source": [
    "## 1.2 Implémentation"
   ]
  },
  {
   "cell_type": "markdown",
   "metadata": {},
   "source": [
    "\n",
    "Nous avons développer une classe $\\text{GrilleMots}$ qui représente une instance de mots-croisés. Elle se construit à l'aide d'un fichier d'entrée au format texte (.txt) ou d'une matrice de nombre binaire (0 ou 1). L'objet construit contient la taille de la grille, le nombre de mots à trouver dans la grille ayant une taille strictement supérieur à 1 et trouve automatiquement les contraintes à satisfaire afin de résoudre ce mots-croisés."
   ]
  },
  {
   "cell_type": "markdown",
   "metadata": {},
   "source": [
    "### Exemple d'utilisation (via console)"
   ]
  },
  {
   "cell_type": "code",
   "execution_count": null,
   "metadata": {
    "collapsed": true
   },
   "outputs": [],
   "source": [
    "import gestDict as dic\n",
    "import gestIO as io\n",
    "from algorithms import Solver"
   ]
  },
  {
   "cell_type": "markdown",
   "metadata": {},
   "source": [
    "La génération de la grille peut se faire aléatoirement via la méthode $\\text{generegrid}$ de la classe $\\text{GrilleMots}$. Par exemple, il est possible de générer une grille de taille 3 par 3 avec 0 obstacle de la manière suivante:"
   ]
  },
  {
   "cell_type": "code",
   "execution_count": 2,
   "metadata": {
    "collapsed": true
   },
   "outputs": [],
   "source": [
    "grid = io.GrilleMots.genere_grid(3, 3, 0)"
   ]
  },
  {
   "cell_type": "markdown",
   "metadata": {},
   "source": [
    "On récupère le dictionnaire, le fichier source est modifiable via une variable globale dans le module $\\text{gestDict}$."
   ]
  },
  {
   "cell_type": "code",
   "execution_count": 3,
   "metadata": {
    "collapsed": false
   },
   "outputs": [
    {
     "name": "stdout",
     "output_type": "stream",
     "text": [
      "Récupération du dictionnaire contenu dans C:\\cygwin64\\home\\elias\\git\\RP/data/Dicos/133000-mots-us.txt\n"
     ]
    }
   ],
   "source": [
    "dic.recupDictionnaire()"
   ]
  },
  {
   "cell_type": "markdown",
   "metadata": {},
   "source": [
    "Il est aussi possible de sélectionner une grille existante au format .txt et de la convertir en objet $\\text{GrilleMots}$."
   ]
  },
  {
   "cell_type": "code",
   "execution_count": 4,
   "metadata": {
    "collapsed": false
   },
   "outputs": [
    {
     "name": "stdout",
     "output_type": "stream",
     "text": [
      "\n",
      "Le fichier grille1.txt existe\n",
      "0 0 0 1 1\n",
      "0 0 0 0 1\n",
      "0 0 0 0 0\n",
      "1 0 0 0 0\n",
      "1 1 0 0 0\n",
      "\n",
      "\n",
      "Grille 5*5 avec 10 mots\n",
      "\n"
     ]
    }
   ],
   "source": [
    "grid = io.read_file(\"grille1.txt\")[0]\n",
    "print grid"
   ]
  },
  {
   "cell_type": "markdown",
   "metadata": {},
   "source": [
    "Création de l'objet utile à la résolution de notre grille de mots-croisés avec en paramètre l'objet grille et le dictionnaire."
   ]
  },
  {
   "cell_type": "code",
   "execution_count": 5,
   "metadata": {
    "collapsed": false
   },
   "outputs": [],
   "source": [
    "solver = Solver(grid, dic.DICTIONNAIRE, random=False)"
   ]
  },
  {
   "cell_type": "markdown",
   "metadata": {},
   "source": [
    "Résolution du mots-croisés par forward checking sans AC3 et avec l'heuristique Minimum-remaining-value (MRV) (3). L'objet retourné est un dictionnaire où chaque variable de mot a été instancié en respect du domaine et des contraintes."
   ]
  },
  {
   "cell_type": "code",
   "execution_count": 6,
   "metadata": {
    "collapsed": false
   },
   "outputs": [
    {
     "name": "stdout",
     "output_type": "stream",
     "text": [
      "Variable : Valeur\n",
      "       1 : GEE\n",
      "       2 : ODIN\n",
      "       3 : VADES\n",
      "       4 : MERE\n",
      "       5 : ROW\n",
      "       6 : GOV\n",
      "       7 : EDAM\n",
      "       8 : EIDER\n",
      "       9 : NERO\n",
      "      10 : SEW\n"
     ]
    }
   ],
   "source": [
    "solver.run(ac3=False, fc=True, heuristic=3, verbose=0)\n",
    "print \"Variable : Valeur\"\n",
    "for index_variable, valeur in solver.assignment.items():\n",
    "    print \"{:8} : {}\".format(index_variable, valeur)"
   ]
  },
  {
   "cell_type": "markdown",
   "metadata": {},
   "source": [
    "### Exemple d'utilisation (via interface)\n",
    "\n",
    "Une interface graphique développé en PyQt est aussi disponnible, elle reprend les fonctionnalités ci-dessus et ajoute une intéractivité entre l'utilisateur et le programme."
   ]
  },
  {
   "cell_type": "markdown",
   "metadata": {},
   "source": [
    "<img src=\"C:\\cygwin64\\home\\elias\\git\\RP\\rapport\\img\\sc1.png\">"
   ]
  },
  {
   "cell_type": "markdown",
   "metadata": {},
   "source": [
    "L'interface permet d'ouvrir une grille, d'en générer une selon les paramètres de taille et du nombre d'obstacle. Elle permet de choisir les dictionnaires à utiliser pour la résolution. Il est possible de combiner différents dictionnaires. Enfin, l'inteface permet de lancer une tentative de résolution du mot-croisé. Pour cela, plusieurs paramètres sont modifiables, comme les algorithmes de résolution (FC ou CBJ) et le choix ou non d'un filtrage AC-3."
   ]
  },
  {
   "cell_type": "markdown",
   "metadata": {},
   "source": [
    "L'interface permet notamment de sauvegarder la grille avant et après résolution."
   ]
  },
  {
   "cell_type": "markdown",
   "metadata": {},
   "source": [
    "## 1.3 Algorithmes"
   ]
  },
  {
   "cell_type": "markdown",
   "metadata": {},
   "source": [
    "### Heuristiques\n",
    "Plusieurs heuristiques ont été mis en oeuvre:\n",
    "\n",
    "- Minimum-remaining-value (MRV)\n",
    "- Max Constraint Assignement\n",
    "- Max Constraint\n",
    "\n",
    "#### Minimum-remaining-value (MRV)\n",
    "Pour le choix de la variable à instancier nous avons choisi d'utiliser une heuristique Minimum-remaining-value (MRV) qui nous retourne la variable qui a le plus petit nombre de valeur légale et issue de son domaine."
   ]
  },
  {
   "cell_type": "code",
   "execution_count": 8,
   "metadata": {
    "collapsed": false
   },
   "outputs": [
    {
     "name": "stdout",
     "output_type": "stream",
     "text": [
      "Help on method mrvHeuristic in module algorithms:\n",
      "\n",
      "mrvHeuristic(self, instance, variables) unbound algorithms.Solver method\n",
      "    Minimum-remaining-value (MRV) heuristic\n",
      "    Variable with the smallest domain in the current assignment\n",
      "    @return int\n",
      "\n"
     ]
    }
   ],
   "source": [
    "help(Solver.mrvHeuristic)"
   ]
  },
  {
   "cell_type": "markdown",
   "metadata": {},
   "source": [
    "L'idée est de toujours brancher sur une variable avec le plus petit nombre de valeur légale restant (la variable dont le domaine est le plus petit en nombre de mot). \n",
    "Cette heuristique a tendance à produire des arbres maigres au sommet. Cela signifie que plusieurs variables peuvent être instanciés avec moins de nœuds recherché, et donc plus d'erreur de propagation se produisent avec un moindre coût."
   ]
  },
  {
   "cell_type": "markdown",
   "metadata": {},
   "source": [
    "#### Max Constraint Assignement\n",
    "Le but est de choisir la variable qui a le plus de contraintes sur les variables déjà instanciés.\n",
    "\n",
    "#### Max Constraint\n",
    "Le but est de choisir la variable qui a le plus de contraintes."
   ]
  },
  {
   "cell_type": "markdown",
   "metadata": {},
   "source": [
    "Après observation empirique, nous avons déduit que l'heuristique la plus optimale est la Minimum-remaining-value (MRV). En effet, avec la MRV le nombre de mots testés est le plus faible avec les deux algorithmes Forward Checking (FC) et Conflict BackJumping with Forward Checking (FC-CBJ)."
   ]
  },
  {
   "cell_type": "markdown",
   "metadata": {},
   "source": [
    "## Algorithme de Forward Checking (FC)\n",
    "\n",
    "L'idée de l'algorithme Forward Checking (FC) est de garder une trace des valeurs légales des variables non assignés."
   ]
  },
  {
   "cell_type": "markdown",
   "metadata": {
    "collapsed": true
   },
   "source": [
    "## Algorithme de Conflict BackJumping (CBJ)"
   ]
  },
  {
   "cell_type": "markdown",
   "metadata": {},
   "source": [
    "# 2 Expérimentation"
   ]
  },
  {
   "cell_type": "markdown",
   "metadata": {},
   "source": [
    "Des expérimentations ont été menées sur nos implémentations des algorithmes. Pour cela, nous avons appliqué nos algorithmes de résolution sur différentes instances, dont les trois grilles A, B et C, et avons enregistré les temps moyens de résolution.\n",
    "\n",
    "Tout d'abord, nous avons évalué les performances de nos algorithmes sur les trois grilles (A, B et C) dont les résultats sont présentés dans les graphiques ci-dessous."
   ]
  },
  {
   "cell_type": "markdown",
   "metadata": {},
   "source": [
    "| Method    | Grille A | Grille B | Grille C |\n",
    "|-----------|----------|----------|----------|\n",
    "| AC3       | 1.06     | 2.13     | 5.17     |\n",
    "| FC        | 0.00     | 0.00     | 0.00     |\n",
    "| AC3 + FC | 0.00     | 0.00     | 0.00     |"
   ]
  },
  {
   "cell_type": "code",
   "execution_count": null,
   "metadata": {
    "collapsed": false
   },
   "outputs": [],
   "source": []
  },
  {
   "cell_type": "markdown",
   "metadata": {},
   "source": []
  },
  {
   "cell_type": "code",
   "execution_count": null,
   "metadata": {
    "collapsed": true
   },
   "outputs": [],
   "source": []
  }
 ],
 "metadata": {
  "kernelspec": {
   "display_name": "Python 2",
   "language": "python",
   "name": "python2"
  },
  "language_info": {
   "codemirror_mode": {
    "name": "ipython",
    "version": 2
   },
   "file_extension": ".py",
   "mimetype": "text/x-python",
   "name": "python",
   "nbconvert_exporter": "python",
   "pygments_lexer": "ipython2",
   "version": "2.7.11"
  }
 },
 "nbformat": 4,
 "nbformat_minor": 0
}
