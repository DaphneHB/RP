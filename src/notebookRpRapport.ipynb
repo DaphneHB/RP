{
 "cells": [
  {
   "cell_type": "markdown",
   "metadata": {},
   "source": [
    "**Daphné Hbek, Elias Rhouzlane.**\n",
    "Université Pierre Marie Curie, Paris, France\n"
   ]
  },
  {
   "cell_type": "markdown",
   "metadata": {
    "collapsed": true
   },
   "source": [
    "---\n",
    "L'objectif est de représenter les mots-croisés comme un problème de satisfaction de contraintes (CSP) pour ensuite trouver un ensemble d'instanciations (variable = valeur) qui satisfasse l'ensemble des contraintes."
   ]
  },
  {
   "cell_type": "markdown",
   "metadata": {},
   "source": [
    "# 1 Modélisation par un CSP et résolution"
   ]
  },
  {
   "cell_type": "markdown",
   "metadata": {},
   "source": [
    "## 1.1 Proposition "
   ]
  },
  {
   "cell_type": "markdown",
   "metadata": {},
   "source": [
    "Un problème de satisfaction de contraintes peut être représenté par un triplet (X, D, C) où :\n",
    "\n",
    "- $X = \\{v_1, v_2, \\dots, v_n\\}$, est un ensemble de $n$ variables\n",
    "- $D = \\{d_1, d_2, \\dots, d_n\\}$, est l'ensemble des $n$ domaines finis associés aux variables\n",
    "- $C = \\{c_1, c_2, \\dots, c_m\\}$, est un ensemble de $m$ contraintes"
   ]
  },
  {
   "cell_type": "markdown",
   "metadata": {},
   "source": [
    "Dans le cas des mots-croisés, on peut définir les différents mots à trouver comme les variables du CSP et définir les contraintes sur et entre ces mots. Un mot est une variable contrainte par une certaine taille et où les lettres doivent être les même que tout autre mot de la grille qu'il intersecte. Le domaine de chaque variable est un ensemble de mot issus d'un dictionnaire de taille fixé à l'avance. Enfin, le domaine de chaque variable est réduit aux mots du dictionnaire de même taille que le mot à trouver. Chaque lettre dans les mots est l'une des 26 de l'alphabet en plus de caractères additionnels."
   ]
  },
  {
   "cell_type": "markdown",
   "metadata": {},
   "source": [
    "Ainsi nous avons défini notre CSP comme suivant:\n",
    "\n",
    "- $X = \\{mot_1, mot_2, \\dots, mot_n\\}$, est l'ensemble des mots à trouver dans la grille\n",
    "- $D = \\{d_1, d_2, \\dots, d_n\\}$ où chaque $d_i$ est un sous-ensemble du dictionnaire\n",
    "- $C = \\{c_1, c_2, \\dots, c_m\\}$, est un ensemble de contraintes sur la taille de chaque variable et de contraintes sur l'égalité de lettre aux intersections"
   ]
  },
  {
   "cell_type": "markdown",
   "metadata": {},
   "source": [
    "Un exemple de CSP suivant notre modélisation serait le suivant:\n",
    "\n",
    "| Variables | Domaines                | Contrainte unaire | Contrainte binaire             |\n",
    "|-----------|-------------------------|-------------------|--------------------------------|\n",
    "| $mot_1$     | {ABLE, ACID, ..., WORM} | mot.taille = 4        | intersect(mot_1, mot_2, (2,5)) |\n",
    "| $mot_2$     | {ACT, AIR, ..., YOU}    | mot.taille = 3        | None                           |\n",
    "| $mot_3$     | {ACROSS, ..., WRITING}  | mot.taille = 5        | None                           |"
   ]
  },
  {
   "cell_type": "markdown",
   "metadata": {},
   "source": [
    "Afin d'appliquer la contrainte supplémentaire qu'un même mot ne peut apparaitre plus d'une fois dans la grille, il suffit d'utiliser la contrainte $\\text{ALL-DIFF}$ et vérifier qu'à chaque instanciation d'une variable, la valeur de l'instanciation n'a pas déjà été utilisée."
   ]
  },
  {
   "cell_type": "markdown",
   "metadata": {},
   "source": [
    "Une autre méthode, plus efficace, serait de mettre à jour le domaine des variables de taille égale à la valeur de la variable instanciée et de la supprimer de ces domaines."
   ]
  },
  {
   "cell_type": "markdown",
   "metadata": {},
   "source": [
    "## 1.2 Implémentation\n",
    "\n",
    "Aide à l'utilisation du programme et description des fonctions:"
   ]
  },
  {
   "cell_type": "markdown",
   "metadata": {},
   "source": [
    "### Exemple d'utilisation (via console)"
   ]
  },
  {
   "cell_type": "code",
   "execution_count": 1,
   "metadata": {
    "collapsed": true
   },
   "outputs": [],
   "source": [
    "import gestDict as dic\n",
    "import gestIO as io\n",
    "from algorithms import Solver"
   ]
  },
  {
   "cell_type": "markdown",
   "metadata": {},
   "source": [
    "On récupère le dictionnaire, le fichier source est modifiable via une variable globale dans le module $\\text{gestDict}$."
   ]
  },
  {
   "cell_type": "code",
   "execution_count": 2,
   "metadata": {
    "collapsed": false
   },
   "outputs": [
    {
     "name": "stdout",
     "output_type": "stream",
     "text": [
      "Récupération du dictionnaire contenu dans C:\\cygwin64\\home\\elias\\git\\RP/data/Dicos/133000-mots-us.txt\n"
     ]
    }
   ],
   "source": [
    "dic.recupDictionnaire()"
   ]
  },
  {
   "cell_type": "markdown",
   "metadata": {},
   "source": [
    "On sélectionne une grille existante au format txt."
   ]
  },
  {
   "cell_type": "code",
   "execution_count": 3,
   "metadata": {
    "collapsed": false
   },
   "outputs": [
    {
     "name": "stdout",
     "output_type": "stream",
     "text": [
      "\n",
      "Le fichier grille1.txt existe\n",
      "0 0 0 1 1\n",
      "0 0 0 0 1\n",
      "0 0 0 0 0\n",
      "1 0 0 0 0\n",
      "1 1 0 0 0\n",
      "\n",
      "\n",
      "Grille 5*5 avec 10 mots\n",
      "\n"
     ]
    }
   ],
   "source": [
    "grid = io.read_file(\"grille1.txt\")[0]\n",
    "print grid"
   ]
  },
  {
   "cell_type": "markdown",
   "metadata": {},
   "source": [
    "Création de l'objet utile à la résolution de notre grille de mots-croisés avec en paramètre l'objet grille et le dictionnaire."
   ]
  },
  {
   "cell_type": "code",
   "execution_count": 4,
   "metadata": {
    "collapsed": false
   },
   "outputs": [],
   "source": [
    "solver = Solver(grid, dic.DICTIONNAIRE, random=False)"
   ]
  },
  {
   "cell_type": "markdown",
   "metadata": {},
   "source": [
    "Résolution du mots-croisés par forward checking avec une étape préliminaire de AC3. L'objet retourné est un dictionnaire où chaque variable de mot a été instancié en respect du domaine et des contraintes."
   ]
  },
  {
   "cell_type": "code",
   "execution_count": 5,
   "metadata": {
    "collapsed": false
   },
   "outputs": [
    {
     "name": "stdout",
     "output_type": "stream",
     "text": [
      "Variable : Valeur\n",
      "       1 : AGO\n",
      "       2 : GIVE\n",
      "       3 : EROSE\n",
      "       4 : TIPS\n",
      "       5 : DYE\n",
      "       6 : AGE\n",
      "       7 : GIRT\n",
      "       8 : OVOID\n",
      "       9 : ESPY\n",
      "      10 : ESE\n"
     ]
    }
   ],
   "source": [
    "solver.run(ac3=False, verbose=0)\n",
    "print \"Variable : Valeur\"\n",
    "for index_variable, valeur in solver.assignment.items():\n",
    "    print \"{:8} : {}\".format(index_variable, valeur)"
   ]
  },
  {
   "cell_type": "markdown",
   "metadata": {},
   "source": [
    "## 1.3 Algorithme de Forward-Checking (FC)"
   ]
  },
  {
   "cell_type": "markdown",
   "metadata": {},
   "source": [
    "L'idée de l'algorithme Forward-Checking est de garder une trace des valeurs légales des variables non assignés."
   ]
  },
  {
   "cell_type": "markdown",
   "metadata": {},
   "source": [
    "### Heuristiques\n",
    "#### MRV\n",
    "Pour le choix de la variable à instancier nous avons choisi d'utiliser une heuristique Minimum-remaining-value (MRV) qui nous retourne la variable qui a le plus petit nombre de valeur légale et issue de son domaine."
   ]
  },
  {
   "cell_type": "code",
   "execution_count": 6,
   "metadata": {
    "collapsed": false
   },
   "outputs": [
    {
     "name": "stdout",
     "output_type": "stream",
     "text": [
      "Help on method mrv in module algorithms:\n",
      "\n",
      "mrv(self, instance, variables) unbound algorithms.Solver method\n",
      "    Minimum-remaining-value (MRV) heuristic\n",
      "    @return the variable from amongst those that have the fewest legal values\n",
      "\n"
     ]
    }
   ],
   "source": [
    "help(Solver.mrv)"
   ]
  },
  {
   "cell_type": "markdown",
   "metadata": {},
   "source": [
    "L'idée est de toujours brancher sur une variable avec le plus petit nombre de valeur légale restant (la variable dont le domaine est le plus petit en nombre de mot). \n",
    "Cette heuristique a tendance à produire des arbres maigres au sommet. Cela signifie que plusieurs variables peuvent être instanciés avec moins de nœuds recherché, et donc plus d'erreur de propagation se produisent avec un moindre coût."
   ]
  },
  {
   "cell_type": "markdown",
   "metadata": {},
   "source": [
    "#### Variable la plus contrainte\n",
    "Le but est de choisir la variable qui a le plus de contraintes sur les variables restantes."
   ]
  },
  {
   "cell_type": "markdown",
   "metadata": {
    "collapsed": true
   },
   "source": [
    "## Algorithme de Conflict BackJumping (CBJ)"
   ]
  },
  {
   "cell_type": "markdown",
   "metadata": {},
   "source": [
    "# 2 Expérimentation"
   ]
  },
  {
   "cell_type": "markdown",
   "metadata": {},
   "source": [
    "Nous avons appliqué notre algorithme sur les 3 grilles A, B et C, et avons enregistré les temps moyens de résolution pour AC3, FC sans AC3 préalable, FC avec AC3 préalable.\n"
   ]
  },
  {
   "cell_type": "markdown",
   "metadata": {},
   "source": [
    "| Method    | Grille A | Grille B | Grille C |\n",
    "|-----------|----------|----------|----------|\n",
    "| AC3       | 1.06     | 2.13     | 5.17     |\n",
    "| FC        | 0.00     | 0.00     | 0.00     |\n",
    "| AC3 + FC | 0.00     | 0.00     | 0.00     |"
   ]
  },
  {
   "cell_type": "code",
   "execution_count": 7,
   "metadata": {
    "collapsed": false
   },
   "outputs": [
    {
     "name": "stdout",
     "output_type": "stream",
     "text": [
      "\n",
      "Le fichier grille1.txt existe\n",
      "\n",
      "Le fichier grille2.txt existe\n",
      "\n",
      "Le fichier grille3.txt existe\n"
     ]
    }
   ],
   "source": [
    "A = io.read_file(\"grille1.txt\")[0]\n",
    "B = io.read_file(\"grille2.txt\")[0]\n",
    "C = io.read_file(\"grille3.txt\")[0]"
   ]
  },
  {
   "cell_type": "markdown",
   "metadata": {},
   "source": [
    "Création de la fonction $\\text{time_it}$ permettant d'évaluer la performance de nos algorithmes."
   ]
  },
  {
   "cell_type": "code",
   "execution_count": 8,
   "metadata": {
    "collapsed": false
   },
   "outputs": [],
   "source": [
    "import numpy as np\n",
    "import time\n",
    "def time_it(functions, iterations, grid):\n",
    "    time_log = np.empty((iterations,))\n",
    "    for i in range(iterations):\n",
    "        solver = Solver(grid, dic.DICTIONNAIRE, random=True)\n",
    "        start = time.time()\n",
    "        for f in functions:\n",
    "            f(solver)\n",
    "        time_log[i] = time.time() - start\n",
    "        print \"time({}) = {:4}\".format(i, time_log[i])\n",
    "    return np.mean(time_log), np.std(time_log)"
   ]
  },
  {
   "cell_type": "code",
   "execution_count": 9,
   "metadata": {
    "collapsed": false
   },
   "outputs": [
    {
     "name": "stdout",
     "output_type": "stream",
     "text": [
      "time(0) = 16.1919999123\n",
      "time(1) = 16.8579998016\n",
      "time(2) = 17.6080000401\n",
      "time(3) = 16.5390000343\n",
      "time(4) = 16.7009999752\n",
      "16.7795999527 0.469410976809\n"
     ]
    }
   ],
   "source": [
    "mean, std = time_it([lambda tmpsolver: tmpsolver.ac3()], 5, C)\n",
    "print mean, std"
   ]
  },
  {
   "cell_type": "code",
   "execution_count": 10,
   "metadata": {
    "collapsed": false
   },
   "outputs": [
    {
     "name": "stdout",
     "output_type": "stream",
     "text": [
      "time(0) = 3.16900014877\n",
      "time(1) = 0.981000185013\n",
      "time(2) = 1.89599990845\n",
      "time(3) = 2.5720000267\n",
      "time(4) = 1.33299994469\n",
      "1.99020004272 0.798414791739\n"
     ]
    }
   ],
   "source": [
    "mean, std = time_it([lambda tmpsolver: tmpsolver.forwardChecking(first=True)], 5, C)\n",
    "print mean, std"
   ]
  },
  {
   "cell_type": "code",
   "execution_count": 11,
   "metadata": {
    "collapsed": false
   },
   "outputs": [
    {
     "name": "stdout",
     "output_type": "stream",
     "text": [
      "time(0) = 2.78299999237\n",
      "time(1) = 2.90100002289\n",
      "time(2) = 2.7460000515\n",
      "time(3) = 2.77200007439\n",
      "time(4) = 3.18499994278\n",
      "2.87740001678 0.162764331538\n"
     ]
    }
   ],
   "source": [
    "mean, std = time_it([lambda tmpsolver: tmpsolver.ac3(),\n",
    "                    lambda tmpsolver: tmpsolver.forwardChecking(first=True)], 5, A)\n",
    "print mean, std"
   ]
  },
  {
   "cell_type": "code",
   "execution_count": null,
   "metadata": {
    "collapsed": true
   },
   "outputs": [],
   "source": []
  }
 ],
 "metadata": {
  "kernelspec": {
   "display_name": "Python 2",
   "language": "python",
   "name": "python2"
  },
  "language_info": {
   "codemirror_mode": {
    "name": "ipython",
    "version": 2
   },
   "file_extension": ".py",
   "mimetype": "text/x-python",
   "name": "python",
   "nbconvert_exporter": "python",
   "pygments_lexer": "ipython2",
   "version": "2.7.11"
  }
 },
 "nbformat": 4,
 "nbformat_minor": 0
}
