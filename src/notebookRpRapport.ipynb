{
 "cells": [
  {
   "cell_type": "markdown",
   "metadata": {},
   "source": [
    "**Daphné Hbek, Elias Rhouzlane.**\n",
    "Université Pierre Marie Curie, Paris, France\n"
   ]
  },
  {
   "cell_type": "markdown",
   "metadata": {
    "collapsed": true
   },
   "source": [
    "---\n",
    "L'objectif est de représenter les mots-croisés comme un problème de satisfaction de contraintes (CSP) pour ensuite trouver un ensemble d'instanciations (variable = valeur) qui satisfasse l'ensemble des contraintes."
   ]
  },
  {
   "cell_type": "markdown",
   "metadata": {},
   "source": [
    "# 1 Modélisation par un CSP et résolution"
   ]
  },
  {
   "cell_type": "markdown",
   "metadata": {},
   "source": [
    "## 1.1 Proposition "
   ]
  },
  {
   "cell_type": "markdown",
   "metadata": {},
   "source": [
    "Un problème de satisfaction de contraintes peut être représenté par un triplet (X, D, C) où :\n",
    "\n",
    "- $X = \\{v_1, v_2, \\dots, v_n\\}$, est un ensemble de $n$ variables\n",
    "- $D = \\{d_1, d_2, \\dots, d_n\\}$, est l'ensemble des $n$ domaines finis associés aux variables\n",
    "- $C = \\{c_1, c_2, \\dots, c_m\\}$, est un ensemble de $m$ contraintes"
   ]
  },
  {
   "cell_type": "markdown",
   "metadata": {},
   "source": [
    "Dans le cas des mots-croisés, on peut définir les différents mots à trouver comme les variables du CSP et définir les contraintes sur et entre ces mots. Un mot est une variable contrainte par une certaine taille et où les lettres doivent être les même que tout autre mot de la grille qu'il intersecte. Le domaine de chaque variable est un ensemble de mot issus d'un dictionnaire de taille fixé à l'avance. Enfin, le domaine de chaque variable est réduit aux mots du dictionnaire de même taille que le mot à trouver. Chaque lettre dans les mots est l'une des 26 de l'alphabet en plus de caractères additionnels."
   ]
  },
  {
   "cell_type": "markdown",
   "metadata": {},
   "source": [
    "Ainsi nous avons défini notre CSP comme suivant:\n",
    "\n",
    "- $X = \\{mot_1, mot_2, \\dots, mot_n\\}$, est l'ensemble des mots à trouver dans la grille\n",
    "- $D = \\{d_1, d_2, \\dots, d_n\\}$ où chaque $d_i$ est un sous-ensemble du dictionnaire\n",
    "- $C = \\{c_1, c_2, \\dots, c_m\\}$, est un ensemble de contraintes sur la taille de chaque variable et de contraintes sur l'égalité de lettre aux intersections"
   ]
  },
  {
   "cell_type": "markdown",
   "metadata": {},
   "source": [
    "Un exemple de CSP suivant notre modélisation serait le suivant:\n",
    "\n",
    "| Variables | Domaines                | Contrainte unaire | Contrainte binaire             |\n",
    "|-----------|-------------------------|-------------------|--------------------------------|\n",
    "| $mot_1$     | {ABLE, ACID, ..., WORM} | mot.taille = 4        | intersect(mot_1, mot_2, (2,5)) |\n",
    "| $mot_2$     | {ACT, AIR, ..., YOU}    | mot.taille = 3        | None                           |\n",
    "| $mot_3$     | {ACROSS, ..., WRITING}  | mot.taille = 5        | None                           |"
   ]
  },
  {
   "cell_type": "markdown",
   "metadata": {},
   "source": [
    "Afin d'appliquer la contrainte supplémentaire qu'un même mot ne peut apparaitre plus d'une fois dans la grille, il suffit d'utiliser la contrainte $\\text{ALL-DIFF}$ et vérifier qu'à chaque instanciation d'une variable, la valeur de l'instanciation n'a pas déjà été utilisée."
   ]
  },
  {
   "cell_type": "markdown",
   "metadata": {},
   "source": [
    "Une autre méthode, plus efficace, serait de mettre à jour le domaine des variables de taille égale à la valeur de la variable instanciée et de la supprimer de ces domaines."
   ]
  },
  {
   "cell_type": "markdown",
   "metadata": {},
   "source": [
    "## 1.2 Implémentation\n",
    "\n",
    "Aide à l'utilisation du programme et description des fonctions:"
   ]
  },
  {
   "cell_type": "markdown",
   "metadata": {},
   "source": [
    "### Exemple d'utilisation (via console)"
   ]
  },
  {
   "cell_type": "code",
   "execution_count": 1,
   "metadata": {
    "collapsed": true
   },
   "outputs": [],
   "source": [
    "import classes as cl\n",
    "import gestDict as dic\n",
    "import gestIO as io"
   ]
  },
  {
   "cell_type": "markdown",
   "metadata": {},
   "source": [
    "On récupère le dictionnaire, le fichier source est modifiable via une variable globale dans le module $\\text{gestDict}$."
   ]
  },
  {
   "cell_type": "code",
   "execution_count": 2,
   "metadata": {
    "collapsed": false
   },
   "outputs": [
    {
     "name": "stdout",
     "output_type": "stream",
     "text": [
      "Récupération du dictionnaire contenu dans C:\\cygwin64\\home\\elias\\git\\RP/data/Dicos/133000-mots-us.txt\n"
     ]
    }
   ],
   "source": [
    "dic.recupDictionnaire()"
   ]
  },
  {
   "cell_type": "markdown",
   "metadata": {},
   "source": [
    "On sélectionne une grille existante au format txt."
   ]
  },
  {
   "cell_type": "code",
   "execution_count": 3,
   "metadata": {
    "collapsed": false
   },
   "outputs": [
    {
     "name": "stdout",
     "output_type": "stream",
     "text": [
      "\n",
      "Le fichier grille1.txt existe\n",
      "0 0 0 1 1\n",
      "0 0 0 0 1\n",
      "0 0 0 0 0\n",
      "1 0 0 0 0\n",
      "1 1 0 0 0\n",
      "\n",
      "\n",
      "Grille 5*5 avec 10 mots\n",
      "\n"
     ]
    }
   ],
   "source": [
    "grid = io.read_file(\"grille1.txt\")[0]\n",
    "print grid"
   ]
  },
  {
   "cell_type": "markdown",
   "metadata": {},
   "source": [
    "Création de l'objet utile à la résolution de notre grille de mots-croisés avec en paramètre l'objet grille et le dictionnaire."
   ]
  },
  {
   "cell_type": "code",
   "execution_count": 12,
   "metadata": {
    "collapsed": false
   },
   "outputs": [],
   "source": [
    "solver = cl.Solver(grid, dic.DICTIONNAIRE, random=False)"
   ]
  },
  {
   "cell_type": "markdown",
   "metadata": {},
   "source": [
    "Résolution du mots-croisés par forward checking avec une étape préliminaire de AC3. L'objet retourné est un dictionnaire où chaque variable de mot a été instancié en respect du domaine et des contraintes."
   ]
  },
  {
   "cell_type": "code",
   "execution_count": 14,
   "metadata": {
    "collapsed": false
   },
   "outputs": [
    {
     "name": "stdout",
     "output_type": "stream",
     "text": [
      "Variable : Valeur\n",
      "       1 : AGO\n",
      "       2 : GIVE\n",
      "       3 : ELOPE\n",
      "       4 : TIEL\n",
      "       5 : DEL\n",
      "       6 : AGE\n",
      "       7 : GILT\n",
      "       8 : OVOID\n",
      "       9 : EPEE\n",
      "      10 : ELL\n"
     ]
    }
   ],
   "source": [
    "solver.ac3()\n",
    "instance_ = solver.forwardChecking(first=True)\n",
    "print \"Variable : Valeur\"\n",
    "for index_variable, valeur in instance_.items():\n",
    "    print \"{:8} : {}\".format(index_variable, valeur)"
   ]
  },
  {
   "cell_type": "markdown",
   "metadata": {},
   "source": [
    "## 1.3 Algorithme de Forward-Checking (FC)"
   ]
  },
  {
   "cell_type": "markdown",
   "metadata": {},
   "source": [
    "### Heuristique\n",
    "Pour le choix de la variable à instancier nous avons choisi d'utiliser une heuristique Minimum-remaining-value (MRV) qui nous retourne la variable qui a le plus petit nombre de valeur légale et issue de son domaine."
   ]
  },
  {
   "cell_type": "code",
   "execution_count": 6,
   "metadata": {
    "collapsed": false
   },
   "outputs": [
    {
     "name": "stdout",
     "output_type": "stream",
     "text": [
      "Help on method mrv in module classes:\n",
      "\n",
      "mrv(self, instance) unbound classes.Solver method\n",
      "    Minimum-remaining-value (MRV) heuristic\n",
      "    @return the variable from amongst those that have the fewest legal values\n",
      "\n"
     ]
    }
   ],
   "source": [
    "help(cl.Solver.mrv)"
   ]
  },
  {
   "cell_type": "markdown",
   "metadata": {
    "collapsed": true
   },
   "source": [
    "## Algorithme de Conflict BackJumping (CBJ)"
   ]
  },
  {
   "cell_type": "markdown",
   "metadata": {},
   "source": [
    "# 2 Expérimentation"
   ]
  },
  {
   "cell_type": "markdown",
   "metadata": {},
   "source": [
    "Nous avons appliqué notre algorithme sur les 3 grilles A, B et C, et avons enregistré les temps moyens de résolution pour AC3, FC sans AC3 préalable, FC avec AC3 préalable.\n"
   ]
  },
  {
   "cell_type": "markdown",
   "metadata": {},
   "source": [
    "| Method    | Grille A | Grille B | Grille C |\n",
    "|-----------|----------|----------|----------|\n",
    "| AC3       | 0.00     | 0.00     | 0.00     |\n",
    "| FC        | 0.00     | 0.00     | 0.00     |\n",
    "| AC3 + CJB | 0.00     | 0.00     | 0.00     |"
   ]
  },
  {
   "cell_type": "code",
   "execution_count": 15,
   "metadata": {
    "collapsed": false
   },
   "outputs": [
    {
     "name": "stdout",
     "output_type": "stream",
     "text": [
      "\n",
      "Le fichier grille1.txt existe\n",
      "\n",
      "Le fichier grille3.txt existe\n",
      "\n",
      "Le fichier grille4.txt existe\n"
     ]
    }
   ],
   "source": [
    "A = io.read_file(\"grille1.txt\")[0]\n",
    "B = io.read_file(\"grille3.txt\")[0]\n",
    "C = io.read_file(\"grille4.txt\")[0]"
   ]
  },
  {
   "cell_type": "markdown",
   "metadata": {},
   "source": [
    "Création de la fonction $\\text{time_it}$ permettant d'évaluer la performance de nos algorithmes."
   ]
  },
  {
   "cell_type": "code",
   "execution_count": 46,
   "metadata": {
    "collapsed": false
   },
   "outputs": [],
   "source": [
    "import numpy as np\n",
    "import time\n",
    "def time_it(functions, iterations, grid):\n",
    "    time_log = np.empty((iterations,))\n",
    "    for i in range(iterations):\n",
    "        solver = cl.Solver(grid, dic.DICTIONNAIRE, random=True)\n",
    "        start = time.time()\n",
    "        for f in functions:\n",
    "            f(solver)\n",
    "        time_log[i] = time.time() - start\n",
    "    return np.mean(time_log), np.std(time_log)"
   ]
  },
  {
   "cell_type": "code",
   "execution_count": 47,
   "metadata": {
    "collapsed": false
   },
   "outputs": [
    {
     "name": "stdout",
     "output_type": "stream",
     "text": [
      "0.184200048447 0.00960004329726\n"
     ]
    }
   ],
   "source": [
    "mean, std = time_it([lambda tmpsolver: tmpsolver.ac3()], 10, A)\n",
    "print mean, std"
   ]
  },
  {
   "cell_type": "code",
   "execution_count": 48,
   "metadata": {
    "collapsed": false
   },
   "outputs": [
    {
     "name": "stdout",
     "output_type": "stream",
     "text": [
      "1.0746999979 0.213829400315\n"
     ]
    }
   ],
   "source": [
    "mean, std = time_it([lambda tmpsolver: tmpsolver.forwardChecking(first=True)], 10, A)\n",
    "print mean, std"
   ]
  },
  {
   "cell_type": "code",
   "execution_count": null,
   "metadata": {
    "collapsed": true
   },
   "outputs": [],
   "source": []
  }
 ],
 "metadata": {
  "kernelspec": {
   "display_name": "Python 2",
   "language": "python",
   "name": "python2"
  },
  "language_info": {
   "codemirror_mode": {
    "name": "ipython",
    "version": 2
   },
   "file_extension": ".py",
   "mimetype": "text/x-python",
   "name": "python",
   "nbconvert_exporter": "python",
   "pygments_lexer": "ipython2",
   "version": "2.7.11"
  }
 },
 "nbformat": 4,
 "nbformat_minor": 0
}
